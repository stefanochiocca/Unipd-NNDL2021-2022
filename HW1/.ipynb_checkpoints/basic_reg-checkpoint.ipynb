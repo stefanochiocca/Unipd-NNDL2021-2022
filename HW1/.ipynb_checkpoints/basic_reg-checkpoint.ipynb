{
 "cells": [
  {
   "cell_type": "code",
   "execution_count": 1,
   "id": "22b79bdb-da19-4b7d-aa04-2616faeb29f1",
   "metadata": {},
   "outputs": [],
   "source": [
    "import numpy as np\n",
    "import torch\n",
    "import torch.nn as nn\n",
    "import torch.optim as optim\n",
    "from torch.utils.data import Dataset, DataLoader\n",
    "from torchvision import transforms\n",
    "import pandas as pd\n",
    "import matplotlib.pyplot as plt"
   ]
  },
  {
   "cell_type": "code",
   "execution_count": 2,
   "id": "1a3fc5c3-1af5-4d6e-86cb-51526b17d100",
   "metadata": {},
   "outputs": [
    {
     "name": "stderr",
     "output_type": "stream",
     "text": [
      "--2021-11-24 14:07:15--  https://gitlab.dei.unipd.it/michieli/nnld-2021-22-lab-resources/-/raw/main/homework1/train_data.csv\n",
      "Resolving gitlab.dei.unipd.it (gitlab.dei.unipd.it)... 147.162.2.85\n",
      "Connecting to gitlab.dei.unipd.it (gitlab.dei.unipd.it)|147.162.2.85|:443... connected.\n",
      "HTTP request sent, awaiting response... 200 OK\n",
      "Length: 3776 (3,7K) [text/plain]\n",
      "Saving to: 'regression_dataset/train_data.csv.25'\n",
      "\n",
      "     0K ...                                                   100%  153K=0,02s\n",
      "\n",
      "2021-11-24 14:07:15 (153 KB/s) - 'regression_dataset/train_data.csv.25' saved [3776/3776]\n",
      "\n",
      "--2021-11-24 14:07:15--  https://gitlab.dei.unipd.it/michieli/nnld-2021-22-lab-resources/-/raw/main/homework1/test_data.csv\n",
      "Resolving gitlab.dei.unipd.it (gitlab.dei.unipd.it)... 147.162.2.85\n",
      "Connecting to gitlab.dei.unipd.it (gitlab.dei.unipd.it)|147.162.2.85|:443... connected.\n",
      "HTTP request sent, awaiting response... 200 OK\n",
      "Length: 3788 (3,7K) [text/plain]\n",
      "Saving to: 'regression_dataset/test_data.csv.25'\n",
      "\n",
      "     0K ...                                                   100%  146K=0,03s\n",
      "\n",
      "2021-11-24 14:07:15 (146 KB/s) - 'regression_dataset/test_data.csv.25' saved [3788/3788]\n",
      "\n"
     ]
    }
   ],
   "source": [
    "!wget -P regression_dataset https://gitlab.dei.unipd.it/michieli/nnld-2021-22-lab-resources/-/raw/main/homework1/train_data.csv\n",
    "!wget -P regression_dataset https://gitlab.dei.unipd.it/michieli/nnld-2021-22-lab-resources/-/raw/main/homework1/test_data.csv "
   ]
  },
  {
   "cell_type": "markdown",
   "id": "d12fa714-2b17-45ad-9e6e-86d39be681b3",
   "metadata": {},
   "source": [
    "Here we define a simple function to plot the data points"
   ]
  },
  {
   "cell_type": "code",
   "execution_count": 3,
   "id": "9b85fa5a-ae11-49e0-af1a-5cf33b16a0e8",
   "metadata": {},
   "outputs": [],
   "source": [
    "def plot_data(data, label=''):\n",
    "    fig = plt.figure(figsize=(12,8))\n",
    "    plt.scatter(data.input, data.label, label=label)\n",
    "    plt.xlabel('input')\n",
    "    plt.ylabel('label')\n",
    "    plt.legend()\n",
    "    plt.show()"
   ]
  },
  {
   "cell_type": "code",
   "execution_count": 4,
   "id": "66162fd1-8173-42bf-a9e6-58e479f07a63",
   "metadata": {},
   "outputs": [],
   "source": [
    "train_data = pd.read_csv('regression_dataset/train_data.csv')\n",
    "test_data = pd.read_csv('regression_dataset/test_data.csv')"
   ]
  },
  {
   "cell_type": "code",
   "execution_count": 5,
   "id": "80649b3e-dfff-42bf-8129-90f8b2433a88",
   "metadata": {},
   "outputs": [
    {
     "data": {
      "image/png": "[encoded data removed]",
      "text/plain": [
       "<Figure size 864x576 with 1 Axes>"
      ]
     },
     "metadata": {
      "needs_background": "light"
     },
     "output_type": "display_data"
    },
    {
     "data": {
      "image/png": "[encoded data removed]",
      "text/plain": [
       "<Figure size 864x576 with 1 Axes>"
      ]
     },
     "metadata": {
      "needs_background": "light"
     },
     "output_type": "display_data"
    }
   ],
   "source": [
    "plot_data(train_data, 'Training data')\n",
    "plot_data(test_data, 'Test data')"
   ]
  },
  {
   "cell_type": "code",
   "execution_count": 6,
   "id": "79725aad-2de0-4415-858c-451f6f8cf79c",
   "metadata": {
    "tags": []
   },
   "outputs": [],
   "source": [
    "class CsvDataset(Dataset):\n",
    "\n",
    "    def __init__(self, csv_file, transform=None):\n",
    "        \n",
    "        self.transform = transform\n",
    "        # Read the file and split the lines in a list\n",
    "        with open(csv_file, 'r') as f:\n",
    "            lines = f.read().split('\\n')\n",
    "        lines.pop(0)\n",
    "        lines.pop(-1)\n",
    "        # Get x and y values from each line and append to self.data\n",
    "        self.data = []\n",
    "        for line in lines:\n",
    "            sample = line.split(',')\n",
    "            self.data.append((float(sample[0]), float(sample[1])))\n",
    "            # Now self.data contains all our dataset.\n",
    "        # Each element of the list self.data is a tuple: (input, output)\n",
    "    def __len__(self):\n",
    "        # The length of the dataset is simply the length of the self.data list\n",
    "        return len(self.data)\n",
    "\n",
    "    def __getitem__(self, idx):\n",
    "        # Our sample is the element idx of the list self.data\n",
    "        sample = self.data[idx]\n",
    "        if self.transform:\n",
    "            sample = self.transform(sample)\n",
    "        return sample"
   ]
  },
  {
   "cell_type": "code",
   "execution_count": 7,
   "id": "72bff09c-f754-42a4-865f-aa24938f00f3",
   "metadata": {},
   "outputs": [],
   "source": [
    "class ToTensor():\n",
    "        \"\"\"Convert sample to Tensors.\"\"\"\n",
    "        def __call__(self, sample):\n",
    "            x, y = sample\n",
    "            return (torch.tensor([x]).float(), torch.tensor([y]).float())"
   ]
  },
  {
   "cell_type": "markdown",
   "id": "1d6a01bd-4d78-45e9-9837-cc8147706ed6",
   "metadata": {},
   "source": [
    "Now we transform the data into tensors\n"
   ]
  },
  {
   "cell_type": "code",
   "execution_count": 8,
   "id": "529ac656-9dec-4de6-9ea0-e27379190578",
   "metadata": {},
   "outputs": [],
   "source": [
    "composed_transform = transforms.Compose([ToTensor()])\n",
    "\n",
    "train_dataset = CsvDataset('regression_dataset/train_data.csv', transform=composed_transform)\n",
    "test_dataset = CsvDataset('regression_dataset/test_data.csv', transform=composed_transform)"
   ]
  },
  {
   "cell_type": "code",
   "execution_count": 9,
   "id": "d073d4e7-893d-441c-9cbc-6f7318ec8414",
   "metadata": {},
   "outputs": [],
   "source": [
    "train_dataloader = DataLoader(train_dataset, batch_size=4, shuffle=True)\n",
    "test_dataloader = DataLoader(test_dataset, batch_size=4, shuffle=False)"
   ]
  },
  {
   "cell_type": "markdown",
   "id": "b4f63b4c-de02-4014-ba79-253fb6a229e9",
   "metadata": {},
   "source": [
    "Here we define the model, which for the regression task will be a very simple network composed ny two hidden layers and the output layer. The activation function is instead a Sigmoid."
   ]
  },
  {
   "cell_type": "code",
   "execution_count": 10,
   "id": "b4248cfe-e80a-4a1b-b314-74ee9d88af1f",
   "metadata": {},
   "outputs": [],
   "source": [
    "class Net(nn.Module):\n",
    "    \n",
    "    def __init__(self, Ni, Nh1, Nh2, No):\n",
    "        \"\"\"\n",
    "        Ni - Input size\n",
    "        Nh1 - Neurons in the 1st hidden layer\n",
    "        Nh2 - Neurons in the 2nd hidden layer\n",
    "        No - Output size\n",
    "        \"\"\"\n",
    "        super().__init__()\n",
    "        \n",
    "        print('Network initialized')\n",
    "        self.fc1 = nn.Linear(in_features=Ni, out_features=Nh1)\n",
    "        self.fc2 = nn.Linear(in_features=Nh1, out_features=Nh2)\n",
    "        self.out = nn.Linear(in_features=Nh2, out_features=No)\n",
    "        self.act = nn.Sigmoid()\n",
    "        \n",
    "    def forward(self, x, additional_out=False):\n",
    "        x = self.act(self.fc1(x))\n",
    "        x = self.act(self.fc2(x))\n",
    "        x = self.out(x)\n",
    "        return x"
   ]
  },
  {
   "cell_type": "code",
   "execution_count": 11,
   "id": "c7827456-810c-4e5e-ae3e-9e3e55487ae6",
   "metadata": {},
   "outputs": [
    {
     "name": "stdout",
     "output_type": "stream",
     "text": [
      "Training device: cpu\n"
     ]
    }
   ],
   "source": [
    "# Check if the GPU is available\n",
    "device = torch.device(\"cuda\") if torch.cuda.is_available() else torch.device(\"cpu\")\n",
    "print(f\"Training device: {device}\")"
   ]
  },
  {
   "cell_type": "markdown",
   "id": "2c826f8a-ec83-4908-b3cb-9202c35e1b51",
   "metadata": {},
   "source": [
    "Here we initialize the network and pass it to the GPU, if any."
   ]
  },
  {
   "cell_type": "code",
   "execution_count": 12,
   "id": "aa147479-c7e9-4135-aca9-59a02d8b7730",
   "metadata": {},
   "outputs": [
    {
     "name": "stdout",
     "output_type": "stream",
     "text": [
      "Network initialized\n"
     ]
    },
    {
     "data": {
      "text/plain": [
       "Net(\n",
       "  (fc1): Linear(in_features=1, out_features=128, bias=True)\n",
       "  (fc2): Linear(in_features=128, out_features=256, bias=True)\n",
       "  (out): Linear(in_features=256, out_features=1, bias=True)\n",
       "  (act): Sigmoid()\n",
       ")"
      ]
     },
     "execution_count": 12,
     "metadata": {},
     "output_type": "execute_result"
    }
   ],
   "source": [
    "\n",
    "torch.manual_seed(0)\n",
    "Ni = 1\n",
    "Nh1 = 128\n",
    "Nh2 = 256\n",
    "No = 1\n",
    "net = Net(Ni, Nh1, Nh2, No)\n",
    "net.to(device)\n"
   ]
  },
  {
   "cell_type": "markdown",
   "id": "e15d373a-1382-4ede-a73b-4d56cb677fb1",
   "metadata": {},
   "source": [
    "Before training the network we analyze the activation and the weights, in ordere to compare the results after the training. "
   ]
  },
  {
   "cell_type": "code",
   "execution_count": 13,
   "id": "3430e6b7-2465-45f9-b6c3-d0907b2511cf",
   "metadata": {},
   "outputs": [],
   "source": [
    "# First hidden layer\n",
    "h1_w = net.fc1.weight.data.cpu().numpy()\n",
    "h1_b = net.fc1.bias.data.cpu().numpy()\n",
    "\n",
    "# Second hidden layer\n",
    "h2_w = net.fc2.weight.data.cpu().numpy()\n",
    "h2_b = net.fc2.bias.data.cpu().numpy()\n",
    "\n",
    "# Output layer\n",
    "out_w = net.out.weight.data.cpu().numpy()\n",
    "out_b = net.out.bias.data.cpu().numpy()"
   ]
  },
  {
   "cell_type": "code",
   "execution_count": 14,
   "id": "2fc7fad0-5ac2-404f-aa68-43184392ed4d",
   "metadata": {},
   "outputs": [
    {
     "data": {
      "image/png": "[encoded data removed]",
      "text/plain": [
       "<Figure size 864x576 with 3 Axes>"
      ]
     },
     "metadata": {
      "needs_background": "light"
     },
     "output_type": "display_data"
    }
   ],
   "source": [
    "# Weights histogram\n",
    "fig, axs = plt.subplots(3, 1, figsize=(12,8))\n",
    "axs[0].hist(h1_w.flatten(), 50)\n",
    "axs[0].set_title('First hidden layer weights')\n",
    "axs[1].hist(h2_w.flatten(), 50)\n",
    "axs[1].set_title('Second hidden layer weights')\n",
    "axs[2].hist(out_w.flatten(), 50)\n",
    "axs[2].set_title('Output layer weights')\n",
    "[ax.grid() for ax in axs]\n",
    "plt.tight_layout()\n",
    "plt.show()"
   ]
  },
  {
   "cell_type": "code",
   "execution_count": 15,
   "id": "402fc271-bed0-488e-ac8c-5717a9dff885",
   "metadata": {},
   "outputs": [
    {
     "name": "stdout",
     "output_type": "stream",
     "text": [
      "odict_keys(['fc1.weight', 'fc1.bias', 'fc2.weight', 'fc2.bias', 'out.weight', 'out.bias'])\n"
     ]
    }
   ],
   "source": [
    "### Save network parameters\n",
    "### Save the network state\n",
    "# The state dictionary includes all the parameters of the network\n",
    "net_state_dict = net.state_dict()\n",
    "print(net_state_dict.keys())\n",
    "# Save the state dict to a file\n",
    "torch.save(net_state_dict, 'net_parameters_before_training.torch')"
   ]
  },
  {
   "cell_type": "markdown",
   "id": "9c1fd9e3-d9c8-4775-b48e-2c61ac64f7b1",
   "metadata": {},
   "source": [
    "We choose as loss function the Mean Square Error, which is appropriate for regression tasks, while for the moment we will choose SGD as optimizer."
   ]
  },
  {
   "cell_type": "code",
   "execution_count": 16,
   "id": "5ba6c546-7f62-46cd-8c47-a420420d8429",
   "metadata": {},
   "outputs": [],
   "source": [
    "loss_fn = nn.MSELoss()  \n",
    "optimizer = optim.SGD(net.parameters(), lr = 1e-3, momentum = 0.9)"
   ]
  },
  {
   "cell_type": "markdown",
   "id": "e9ed56db-5a30-4b4a-bed5-8822e8293d51",
   "metadata": {},
   "source": [
    "Training loop for 300 epochs"
   ]
  },
  {
   "cell_type": "code",
   "execution_count": 17,
   "id": "c090d72d-197b-411d-ada4-df78ba0f1430",
   "metadata": {},
   "outputs": [
    {
     "name": "stdout",
     "output_type": "stream",
     "text": [
      "AVERAGE TRAIN LOSS: 3.72196888923645\n",
      "AVERAGE TRAIN LOSS: 3.8290069103240967\n",
      "AVERAGE TRAIN LOSS: 3.817074775695801\n",
      "AVERAGE TRAIN LOSS: 3.470794439315796\n",
      "AVERAGE TRAIN LOSS: 3.256917715072632\n",
      "AVERAGE TRAIN LOSS: 3.1773269176483154\n",
      "AVERAGE TRAIN LOSS: 3.2829949855804443\n",
      "AVERAGE TRAIN LOSS: 3.5119993686676025\n",
      "AVERAGE TRAIN LOSS: 3.7992804050445557\n",
      "AVERAGE TRAIN LOSS: 3.8803963661193848\n",
      "AVERAGE TRAIN LOSS: 3.6266963481903076\n",
      "AVERAGE TRAIN LOSS: 3.3684799671173096\n",
      "AVERAGE TRAIN LOSS: 3.2245237827301025\n",
      "AVERAGE TRAIN LOSS: 3.1460399627685547\n",
      "AVERAGE TRAIN LOSS: 3.0960586071014404\n",
      "AVERAGE TRAIN LOSS: 3.0578598976135254\n",
      "AVERAGE TRAIN LOSS: 3.024244785308838\n",
      "AVERAGE TRAIN LOSS: 2.9920084476470947\n",
      "AVERAGE TRAIN LOSS: 2.9597253799438477\n",
      "AVERAGE TRAIN LOSS: 2.9268693923950195\n",
      "AVERAGE TRAIN LOSS: 2.893406629562378\n",
      "AVERAGE TRAIN LOSS: 2.8595640659332275\n",
      "AVERAGE TRAIN LOSS: 2.825678586959839\n",
      "AVERAGE TRAIN LOSS: 2.7921054363250732\n",
      "AVERAGE TRAIN LOSS: 2.759152889251709\n",
      "AVERAGE TRAIN LOSS: 2.7270593643188477\n",
      "AVERAGE TRAIN LOSS: 2.69598388671875\n",
      "AVERAGE TRAIN LOSS: 2.6660094261169434\n",
      "AVERAGE TRAIN LOSS: 2.6371593475341797\n",
      "AVERAGE TRAIN LOSS: 2.609407663345337\n",
      "AVERAGE TRAIN LOSS: 2.5826969146728516\n",
      "AVERAGE TRAIN LOSS: 2.55694842338562\n",
      "AVERAGE TRAIN LOSS: 2.5320725440979004\n",
      "AVERAGE TRAIN LOSS: 2.5079777240753174\n",
      "AVERAGE TRAIN LOSS: 2.484574556350708\n",
      "AVERAGE TRAIN LOSS: 2.461780309677124\n",
      "AVERAGE TRAIN LOSS: 2.4395201206207275\n",
      "AVERAGE TRAIN LOSS: 2.4177303314208984\n",
      "AVERAGE TRAIN LOSS: 2.3963558673858643\n",
      "AVERAGE TRAIN LOSS: 2.3753509521484375\n",
      "AVERAGE TRAIN LOSS: 2.3546788692474365\n",
      "AVERAGE TRAIN LOSS: 2.3343098163604736\n",
      "AVERAGE TRAIN LOSS: 2.314220666885376\n",
      "AVERAGE TRAIN LOSS: 2.2943923473358154\n",
      "AVERAGE TRAIN LOSS: 2.274808883666992\n",
      "AVERAGE TRAIN LOSS: 2.2554566860198975\n",
      "AVERAGE TRAIN LOSS: 2.236323118209839\n",
      "AVERAGE TRAIN LOSS: 2.217395782470703\n",
      "AVERAGE TRAIN LOSS: 2.1986618041992188\n",
      "AVERAGE TRAIN LOSS: 2.180107831954956\n",
      "AVERAGE TRAIN LOSS: 2.16171932220459\n",
      "AVERAGE TRAIN LOSS: 2.1434803009033203\n",
      "AVERAGE TRAIN LOSS: 2.1253747940063477\n",
      "AVERAGE TRAIN LOSS: 2.10738468170166\n",
      "AVERAGE TRAIN LOSS: 2.089493989944458\n",
      "AVERAGE TRAIN LOSS: 2.0716845989227295\n",
      "AVERAGE TRAIN LOSS: 2.0539400577545166\n",
      "AVERAGE TRAIN LOSS: 2.0362460613250732\n",
      "AVERAGE TRAIN LOSS: 2.018589496612549\n",
      "AVERAGE TRAIN LOSS: 2.000959873199463\n",
      "AVERAGE TRAIN LOSS: 1.9833505153656006\n",
      "AVERAGE TRAIN LOSS: 1.965757131576538\n",
      "AVERAGE TRAIN LOSS: 1.9481796026229858\n",
      "AVERAGE TRAIN LOSS: 1.9306209087371826\n",
      "AVERAGE TRAIN LOSS: 1.9130882024765015\n",
      "AVERAGE TRAIN LOSS: 1.8955926895141602\n",
      "AVERAGE TRAIN LOSS: 1.8781473636627197\n",
      "AVERAGE TRAIN LOSS: 1.860769510269165\n",
      "AVERAGE TRAIN LOSS: 1.843479037284851\n",
      "AVERAGE TRAIN LOSS: 1.8262981176376343\n",
      "AVERAGE TRAIN LOSS: 1.809249997138977\n",
      "AVERAGE TRAIN LOSS: 1.7923606634140015\n",
      "AVERAGE TRAIN LOSS: 1.7756558656692505\n",
      "AVERAGE TRAIN LOSS: 1.7591612339019775\n",
      "AVERAGE TRAIN LOSS: 1.7429029941558838\n",
      "AVERAGE TRAIN LOSS: 1.726906180381775\n",
      "AVERAGE TRAIN LOSS: 1.7111937999725342\n",
      "AVERAGE TRAIN LOSS: 1.695786714553833\n",
      "AVERAGE TRAIN LOSS: 1.6807035207748413\n",
      "AVERAGE TRAIN LOSS: 1.6659601926803589\n",
      "AVERAGE TRAIN LOSS: 1.6515682935714722\n",
      "AVERAGE TRAIN LOSS: 1.6375375986099243\n",
      "AVERAGE TRAIN LOSS: 1.6238725185394287\n",
      "AVERAGE TRAIN LOSS: 1.6105753183364868\n",
      "AVERAGE TRAIN LOSS: 1.5976439714431763\n",
      "AVERAGE TRAIN LOSS: 1.585073471069336\n",
      "AVERAGE TRAIN LOSS: 1.5728555917739868\n",
      "AVERAGE TRAIN LOSS: 1.5609800815582275\n",
      "AVERAGE TRAIN LOSS: 1.549433708190918\n",
      "AVERAGE TRAIN LOSS: 1.5382016897201538\n",
      "AVERAGE TRAIN LOSS: 1.5272669792175293\n",
      "AVERAGE TRAIN LOSS: 1.5166120529174805\n",
      "AVERAGE TRAIN LOSS: 1.506217360496521\n",
      "AVERAGE TRAIN LOSS: 1.496063232421875\n",
      "AVERAGE TRAIN LOSS: 1.486129879951477\n",
      "AVERAGE TRAIN LOSS: 1.476395845413208\n",
      "AVERAGE TRAIN LOSS: 1.4668432474136353\n",
      "AVERAGE TRAIN LOSS: 1.4574528932571411\n",
      "AVERAGE TRAIN LOSS: 1.4482086896896362\n",
      "AVERAGE TRAIN LOSS: 1.4390959739685059\n",
      "AVERAGE TRAIN LOSS: 1.4301005601882935\n",
      "AVERAGE TRAIN LOSS: 1.4212106466293335\n",
      "AVERAGE TRAIN LOSS: 1.4124149084091187\n",
      "AVERAGE TRAIN LOSS: 1.4037028551101685\n",
      "AVERAGE TRAIN LOSS: 1.3950649499893188\n",
      "AVERAGE TRAIN LOSS: 1.386493444442749\n",
      "AVERAGE TRAIN LOSS: 1.377981424331665\n",
      "AVERAGE TRAIN LOSS: 1.369524598121643\n",
      "AVERAGE TRAIN LOSS: 1.3611201047897339\n",
      "AVERAGE TRAIN LOSS: 1.3527672290802002\n",
      "AVERAGE TRAIN LOSS: 1.3444668054580688\n",
      "AVERAGE TRAIN LOSS: 1.3362220525741577\n",
      "AVERAGE TRAIN LOSS: 1.3280354738235474\n",
      "AVERAGE TRAIN LOSS: 1.3199117183685303\n",
      "AVERAGE TRAIN LOSS: 1.3118555545806885\n",
      "AVERAGE TRAIN LOSS: 1.3038707971572876\n",
      "AVERAGE TRAIN LOSS: 1.2959591150283813\n",
      "AVERAGE TRAIN LOSS: 1.2881224155426025\n",
      "AVERAGE TRAIN LOSS: 1.2803584337234497\n",
      "AVERAGE TRAIN LOSS: 1.272665023803711\n",
      "AVERAGE TRAIN LOSS: 1.2650359869003296\n",
      "AVERAGE TRAIN LOSS: 1.2574641704559326\n",
      "AVERAGE TRAIN LOSS: 1.249940037727356\n",
      "AVERAGE TRAIN LOSS: 1.242453694343567\n",
      "AVERAGE TRAIN LOSS: 1.2349940538406372\n",
      "AVERAGE TRAIN LOSS: 1.227550745010376\n",
      "AVERAGE TRAIN LOSS: 1.2201136350631714\n",
      "AVERAGE TRAIN LOSS: 1.212674856185913\n",
      "AVERAGE TRAIN LOSS: 1.2052277326583862\n",
      "AVERAGE TRAIN LOSS: 1.1977699995040894\n",
      "AVERAGE TRAIN LOSS: 1.1903008222579956\n",
      "AVERAGE TRAIN LOSS: 1.1828246116638184\n",
      "AVERAGE TRAIN LOSS: 1.1753491163253784\n",
      "AVERAGE TRAIN LOSS: 1.1678860187530518\n",
      "AVERAGE TRAIN LOSS: 1.1604512929916382\n",
      "AVERAGE TRAIN LOSS: 1.1530647277832031\n",
      "AVERAGE TRAIN LOSS: 1.1457475423812866\n",
      "AVERAGE TRAIN LOSS: 1.138525128364563\n",
      "AVERAGE TRAIN LOSS: 1.1314233541488647\n",
      "AVERAGE TRAIN LOSS: 1.1244676113128662\n",
      "AVERAGE TRAIN LOSS: 1.117682933807373\n",
      "AVERAGE TRAIN LOSS: 1.1110923290252686\n",
      "AVERAGE TRAIN LOSS: 1.10471510887146\n",
      "AVERAGE TRAIN LOSS: 1.0985676050186157\n",
      "AVERAGE TRAIN LOSS: 1.09266197681427\n",
      "AVERAGE TRAIN LOSS: 1.087005615234375\n",
      "AVERAGE TRAIN LOSS: 1.0816036462783813\n",
      "AVERAGE TRAIN LOSS: 1.0764546394348145\n",
      "AVERAGE TRAIN LOSS: 1.0715569257736206\n",
      "AVERAGE TRAIN LOSS: 1.0669039487838745\n",
      "AVERAGE TRAIN LOSS: 1.062488317489624\n",
      "AVERAGE TRAIN LOSS: 1.0583001375198364\n",
      "AVERAGE TRAIN LOSS: 1.0543279647827148\n",
      "AVERAGE TRAIN LOSS: 1.0505602359771729\n",
      "AVERAGE TRAIN LOSS: 1.0469839572906494\n",
      "AVERAGE TRAIN LOSS: 1.043586015701294\n",
      "AVERAGE TRAIN LOSS: 1.0403534173965454\n",
      "AVERAGE TRAIN LOSS: 1.0372729301452637\n",
      "AVERAGE TRAIN LOSS: 1.0343315601348877\n",
      "AVERAGE TRAIN LOSS: 1.031516194343567\n",
      "AVERAGE TRAIN LOSS: 1.0288162231445312\n",
      "AVERAGE TRAIN LOSS: 1.0262188911437988\n",
      "AVERAGE TRAIN LOSS: 1.0237151384353638\n",
      "AVERAGE TRAIN LOSS: 1.021294355392456\n",
      "AVERAGE TRAIN LOSS: 1.0189491510391235\n",
      "AVERAGE TRAIN LOSS: 1.0166723728179932\n",
      "AVERAGE TRAIN LOSS: 1.0144586563110352\n",
      "AVERAGE TRAIN LOSS: 1.0123047828674316\n",
      "AVERAGE TRAIN LOSS: 1.0102094411849976\n",
      "AVERAGE TRAIN LOSS: 1.0081727504730225\n",
      "AVERAGE TRAIN LOSS: 1.006199598312378\n",
      "AVERAGE TRAIN LOSS: 1.0042972564697266\n",
      "AVERAGE TRAIN LOSS: 1.0024775266647339\n",
      "AVERAGE TRAIN LOSS: 1.0007597208023071\n",
      "AVERAGE TRAIN LOSS: 0.9991711974143982\n",
      "AVERAGE TRAIN LOSS: 0.9977514743804932\n",
      "AVERAGE TRAIN LOSS: 0.9965607523918152\n",
      "AVERAGE TRAIN LOSS: 0.9956889152526855\n",
      "AVERAGE TRAIN LOSS: 0.9952750205993652\n",
      "AVERAGE TRAIN LOSS: 0.9955421090126038\n",
      "AVERAGE TRAIN LOSS: 0.9968579411506653\n",
      "AVERAGE TRAIN LOSS: 0.9998457431793213\n",
      "AVERAGE TRAIN LOSS: 1.0055584907531738\n",
      "AVERAGE TRAIN LOSS: 1.0156071186065674\n",
      "AVERAGE TRAIN LOSS: 1.031522512435913\n",
      "AVERAGE TRAIN LOSS: 1.051206111907959\n",
      "AVERAGE TRAIN LOSS: 1.0625784397125244\n",
      "AVERAGE TRAIN LOSS: 1.0493589639663696\n",
      "AVERAGE TRAIN LOSS: 1.0288662910461426\n",
      "AVERAGE TRAIN LOSS: 1.0143942832946777\n",
      "AVERAGE TRAIN LOSS: 1.0040218830108643\n",
      "AVERAGE TRAIN LOSS: 0.9958646297454834\n",
      "AVERAGE TRAIN LOSS: 0.9891679286956787\n",
      "AVERAGE TRAIN LOSS: 0.9834907650947571\n",
      "AVERAGE TRAIN LOSS: 0.9785227179527283\n",
      "AVERAGE TRAIN LOSS: 0.9740632772445679\n",
      "AVERAGE TRAIN LOSS: 0.9699898362159729\n",
      "AVERAGE TRAIN LOSS: 0.9662280678749084\n",
      "AVERAGE TRAIN LOSS: 0.9627262353897095\n",
      "AVERAGE TRAIN LOSS: 0.959437370300293\n",
      "AVERAGE TRAIN LOSS: 0.9563157558441162\n",
      "AVERAGE TRAIN LOSS: 0.9533131718635559\n",
      "AVERAGE TRAIN LOSS: 0.9503800272941589\n",
      "AVERAGE TRAIN LOSS: 0.9474701285362244\n",
      "AVERAGE TRAIN LOSS: 0.9445443749427795\n",
      "AVERAGE TRAIN LOSS: 0.9415725469589233\n",
      "AVERAGE TRAIN LOSS: 0.9385347962379456\n",
      "AVERAGE TRAIN LOSS: 0.935421884059906\n",
      "AVERAGE TRAIN LOSS: 0.9322331547737122\n",
      "AVERAGE TRAIN LOSS: 0.9289737939834595\n",
      "AVERAGE TRAIN LOSS: 0.9256523847579956\n",
      "AVERAGE TRAIN LOSS: 0.922279953956604\n",
      "AVERAGE TRAIN LOSS: 0.9188662171363831\n",
      "AVERAGE TRAIN LOSS: 0.9154205918312073\n",
      "AVERAGE TRAIN LOSS: 0.9119492173194885\n",
      "AVERAGE TRAIN LOSS: 0.9084562659263611\n",
      "AVERAGE TRAIN LOSS: 0.9049443602561951\n",
      "AVERAGE TRAIN LOSS: 0.9014130234718323\n",
      "AVERAGE TRAIN LOSS: 0.8978613018989563\n",
      "AVERAGE TRAIN LOSS: 0.8942858576774597\n",
      "AVERAGE TRAIN LOSS: 0.8906831741333008\n",
      "AVERAGE TRAIN LOSS: 0.8870501518249512\n",
      "AVERAGE TRAIN LOSS: 0.8833808302879333\n",
      "AVERAGE TRAIN LOSS: 0.879672110080719\n",
      "AVERAGE TRAIN LOSS: 0.8759179711341858\n",
      "AVERAGE TRAIN LOSS: 0.8721147179603577\n",
      "AVERAGE TRAIN LOSS: 0.8682567477226257\n",
      "AVERAGE TRAIN LOSS: 0.8643399477005005\n",
      "AVERAGE TRAIN LOSS: 0.8603575229644775\n",
      "AVERAGE TRAIN LOSS: 0.8563050031661987\n",
      "AVERAGE TRAIN LOSS: 0.8521751761436462\n",
      "AVERAGE TRAIN LOSS: 0.8479606509208679\n",
      "AVERAGE TRAIN LOSS: 0.8436541557312012\n",
      "AVERAGE TRAIN LOSS: 0.8392444252967834\n",
      "AVERAGE TRAIN LOSS: 0.8347218036651611\n",
      "AVERAGE TRAIN LOSS: 0.8300726413726807\n",
      "AVERAGE TRAIN LOSS: 0.8252822160720825\n",
      "AVERAGE TRAIN LOSS: 0.8203333020210266\n",
      "AVERAGE TRAIN LOSS: 0.8152042627334595\n",
      "AVERAGE TRAIN LOSS: 0.8098711967468262\n",
      "AVERAGE TRAIN LOSS: 0.8043050765991211\n",
      "AVERAGE TRAIN LOSS: 0.7984740138053894\n",
      "AVERAGE TRAIN LOSS: 0.7923404574394226\n",
      "AVERAGE TRAIN LOSS: 0.7858636379241943\n",
      "AVERAGE TRAIN LOSS: 0.778999924659729\n",
      "AVERAGE TRAIN LOSS: 0.7717095613479614\n",
      "AVERAGE TRAIN LOSS: 0.7639584541320801\n",
      "AVERAGE TRAIN LOSS: 0.755734384059906\n",
      "AVERAGE TRAIN LOSS: 0.7470589876174927\n",
      "AVERAGE TRAIN LOSS: 0.738010048866272\n",
      "AVERAGE TRAIN LOSS: 0.7287353873252869\n",
      "AVERAGE TRAIN LOSS: 0.7194580435752869\n",
      "AVERAGE TRAIN LOSS: 0.7104498147964478\n",
      "AVERAGE TRAIN LOSS: 0.7019739747047424\n",
      "AVERAGE TRAIN LOSS: 0.6942161917686462\n",
      "AVERAGE TRAIN LOSS: 0.6872423887252808\n",
      "AVERAGE TRAIN LOSS: 0.6810041666030884\n",
      "AVERAGE TRAIN LOSS: 0.6753892302513123\n",
      "AVERAGE TRAIN LOSS: 0.6702712774276733\n",
      "AVERAGE TRAIN LOSS: 0.6655436158180237\n",
      "AVERAGE TRAIN LOSS: 0.6611247062683105\n",
      "AVERAGE TRAIN LOSS: 0.6569592356681824\n",
      "AVERAGE TRAIN LOSS: 0.6530104875564575\n",
      "AVERAGE TRAIN LOSS: 0.649250328540802\n",
      "AVERAGE TRAIN LOSS: 0.6456587314605713\n",
      "AVERAGE TRAIN LOSS: 0.6422199010848999\n",
      "AVERAGE TRAIN LOSS: 0.6389194130897522\n",
      "AVERAGE TRAIN LOSS: 0.6357451677322388\n",
      "AVERAGE TRAIN LOSS: 0.6326865553855896\n",
      "AVERAGE TRAIN LOSS: 0.6297346353530884\n",
      "AVERAGE TRAIN LOSS: 0.6268794536590576\n",
      "AVERAGE TRAIN LOSS: 0.6241140365600586\n",
      "AVERAGE TRAIN LOSS: 0.6214306950569153\n",
      "AVERAGE TRAIN LOSS: 0.6188226342201233\n",
      "AVERAGE TRAIN LOSS: 0.6162854433059692\n",
      "AVERAGE TRAIN LOSS: 0.6138135194778442\n",
      "AVERAGE TRAIN LOSS: 0.6114012002944946\n",
      "AVERAGE TRAIN LOSS: 0.6090450882911682\n",
      "AVERAGE TRAIN LOSS: 0.6067414879798889\n",
      "AVERAGE TRAIN LOSS: 0.6044860482215881\n",
      "AVERAGE TRAIN LOSS: 0.6022763252258301\n",
      "AVERAGE TRAIN LOSS: 0.6001096963882446\n",
      "AVERAGE TRAIN LOSS: 0.5979833602905273\n",
      "AVERAGE TRAIN LOSS: 0.5958943963050842\n",
      "AVERAGE TRAIN LOSS: 0.5938413143157959\n",
      "AVERAGE TRAIN LOSS: 0.5918227434158325\n",
      "AVERAGE TRAIN LOSS: 0.5898358821868896\n",
      "AVERAGE TRAIN LOSS: 0.5878801345825195\n",
      "AVERAGE TRAIN LOSS: 0.5859537720680237\n",
      "AVERAGE TRAIN LOSS: 0.5840552449226379\n",
      "AVERAGE TRAIN LOSS: 0.5821835398674011\n",
      "AVERAGE TRAIN LOSS: 0.5803371071815491\n",
      "AVERAGE TRAIN LOSS: 0.5785161256790161\n",
      "AVERAGE TRAIN LOSS: 0.5767185688018799\n",
      "AVERAGE TRAIN LOSS: 0.5749438405036926\n",
      "AVERAGE TRAIN LOSS: 0.5731903910636902\n",
      "AVERAGE TRAIN LOSS: 0.5714588165283203\n",
      "AVERAGE TRAIN LOSS: 0.5697473287582397\n",
      "AVERAGE TRAIN LOSS: 0.5680550932884216\n",
      "AVERAGE TRAIN LOSS: 0.5663814544677734\n"
     ]
    }
   ],
   "source": [
    "### TRAINING LOOP\n",
    "num_epochs = 300\n",
    "train_loss_log = []\n",
    "\n",
    "x_train, y_train, real_label = [], [], []\n",
    "for epoch_num in range(num_epochs):\n",
    "    #print('#################')\n",
    "    #print(f'# EPOCH {epoch_num}')\n",
    "    #print('#################')\n",
    "\n",
    "    ### TRAIN\n",
    "    train_loss= []\n",
    "    net.train() # Training mode (e.g. enable dropout, batchnorm updates,...)\n",
    "    for sample_batched in train_dataset:\n",
    "        # Move data to device\n",
    "        x_batch = sample_batched[0].to(device)\n",
    "        label_batch = sample_batched[1].to(device)\n",
    "\n",
    "        # Forward pass\n",
    "        out = net(x_batch)\n",
    "\n",
    "        # Compute loss\n",
    "        loss = loss_fn(out, label_batch)\n",
    "\n",
    "        # Backpropagation\n",
    "        net.zero_grad()\n",
    "        loss.backward()\n",
    "\n",
    "        # Update the weights\n",
    "        optimizer.step()\n",
    "\n",
    "        # Save train loss for this batch\n",
    "        loss_batch = loss.detach().cpu().numpy()\n",
    "        train_loss.append(loss_batch)\n",
    "        \n",
    "    # Save average train loss\n",
    "    train_loss = np.mean(train_loss)\n",
    "    print(f\"AVERAGE TRAIN LOSS: {train_loss}\")\n",
    "    train_loss_log.append(train_loss)\n"
   ]
  },
  {
   "cell_type": "code",
   "execution_count": 18,
   "id": "d80ec679-d95b-4ded-aaf1-69d35f43bc61",
   "metadata": {},
   "outputs": [
    {
     "name": "stdout",
     "output_type": "stream",
     "text": [
      "0.56638145\n"
     ]
    }
   ],
   "source": [
    "print(train_loss)\n"
   ]
  },
  {
   "cell_type": "code",
   "execution_count": 19,
   "id": "baac307f-8deb-4041-805f-d4638eb102d3",
   "metadata": {},
   "outputs": [
    {
     "data": {
      "image/png": "[encoded data removed]",
      "text/plain": [
       "<Figure size 864x576 with 1 Axes>"
      ]
     },
     "metadata": {
      "needs_background": "light"
     },
     "output_type": "display_data"
    }
   ],
   "source": [
    "# Plot losses\n",
    "plt.figure(figsize=(12,8))\n",
    "plt.semilogy(train_loss_log, label='Train loss')\n",
    "#plt.semilogy(val_loss_log, label='Validation loss')\n",
    "plt.xlabel('Epoch')\n",
    "plt.ylabel('Loss')\n",
    "plt.grid()\n",
    "plt.legend()\n",
    "plt.show()"
   ]
  },
  {
   "cell_type": "code",
   "execution_count": 20,
   "id": "61a48c13-dd43-48be-bff1-6575e285edcd",
   "metadata": {},
   "outputs": [
    {
     "data": {
      "image/png": "[encoded data removed]",
      "text/plain": [
       "<Figure size 864x576 with 3 Axes>"
      ]
     },
     "metadata": {
      "needs_background": "light"
     },
     "output_type": "display_data"
    }
   ],
   "source": [
    "# Weights histogram\n",
    "fig, axs = plt.subplots(3, 1, figsize=(12,8))\n",
    "axs[0].hist(h1_w.flatten(), 50)\n",
    "axs[0].set_title('First hidden layer weights')\n",
    "axs[1].hist(h2_w.flatten(), 50)\n",
    "axs[1].set_title('Second hidden layer weights')\n",
    "axs[2].hist(out_w.flatten(), 50)\n",
    "axs[2].set_title('Output layer weights')\n",
    "[ax.grid() for ax in axs]\n",
    "plt.tight_layout()\n",
    "plt.show()"
   ]
  },
  {
   "cell_type": "code",
   "execution_count": 21,
   "id": "adde2464-d619-4d9f-ace8-ca4ca4abe556",
   "metadata": {},
   "outputs": [
    {
     "data": {
      "text/plain": [
       "<All keys matched successfully>"
      ]
     },
     "execution_count": 21,
     "metadata": {},
     "output_type": "execute_result"
    }
   ],
   "source": [
    "net_state_dict = torch.load('net_parameters_before_training.torch')\n",
    "# Update the network parameters\n",
    "net.load_state_dict(net_state_dict) "
   ]
  },
  {
   "cell_type": "code",
   "execution_count": 22,
   "id": "4ce5fdc1-9bec-4acd-839d-34d272064001",
   "metadata": {},
   "outputs": [
    {
     "data": {
      "image/png": "[encoded data removed]",
      "text/plain": [
       "<Figure size 864x576 with 3 Axes>"
      ]
     },
     "metadata": {
      "needs_background": "light"
     },
     "output_type": "display_data"
    }
   ],
   "source": [
    "# Weights histogram\n",
    "fig, axs = plt.subplots(3, 1, figsize=(12,8))\n",
    "axs[0].hist(h1_w.flatten(), 50)\n",
    "axs[0].set_title('First hidden layer weights')\n",
    "axs[1].hist(h2_w.flatten(), 50)\n",
    "axs[1].set_title('Second hidden layer weights')\n",
    "axs[2].hist(out_w.flatten(), 50)\n",
    "axs[2].set_title('Output layer weights')\n",
    "[ax.grid() for ax in axs]\n",
    "plt.tight_layout()\n",
    "plt.show()"
   ]
  },
  {
   "cell_type": "code",
   "execution_count": null,
   "id": "356b1aff-63f0-4a39-9142-b6996b70a1fe",
   "metadata": {},
   "outputs": [],
   "source": [
    "val_data = train_data[80:100]\n",
    "train_data = train_data[0:79]\n",
    "\n",
    "\n"
   ]
  },
  {
   "cell_type": "code",
   "execution_count": 23,
   "id": "480fd9eb-552f-40ad-bc02-58b7c4362e44",
   "metadata": {},
   "outputs": [],
   "source": [
    "loss_fn = nn.MSELoss()  \n",
    "optimizer = optim.Adam(net.parameters(), lr = 1e-3)"
   ]
  },
  {
   "cell_type": "code",
   "execution_count": 24,
   "id": "7b55c899-c710-41f2-be27-e1ceb6f2ae18",
   "metadata": {},
   "outputs": [
    {
     "name": "stdout",
     "output_type": "stream",
     "text": [
      "AVERAGE TRAIN LOSS: 3.478128671646118\n",
      "AVERAGE TRAIN LOSS: 3.733461380004883\n",
      "AVERAGE TRAIN LOSS: 3.2317748069763184\n",
      "AVERAGE TRAIN LOSS: 3.1839864253997803\n",
      "AVERAGE TRAIN LOSS: 3.1943836212158203\n",
      "AVERAGE TRAIN LOSS: 3.175802230834961\n",
      "AVERAGE TRAIN LOSS: 3.140493392944336\n",
      "AVERAGE TRAIN LOSS: 3.0994608402252197\n",
      "AVERAGE TRAIN LOSS: 3.055070161819458\n",
      "AVERAGE TRAIN LOSS: 3.0078506469726562\n",
      "AVERAGE TRAIN LOSS: 2.958623170852661\n",
      "AVERAGE TRAIN LOSS: 2.9082090854644775\n",
      "AVERAGE TRAIN LOSS: 2.8570618629455566\n",
      "AVERAGE TRAIN LOSS: 2.8052523136138916\n",
      "AVERAGE TRAIN LOSS: 2.7526161670684814\n",
      "AVERAGE TRAIN LOSS: 2.6989052295684814\n",
      "AVERAGE TRAIN LOSS: 2.643893241882324\n",
      "AVERAGE TRAIN LOSS: 2.5874416828155518\n",
      "AVERAGE TRAIN LOSS: 2.5295443534851074\n",
      "AVERAGE TRAIN LOSS: 2.4703428745269775\n",
      "AVERAGE TRAIN LOSS: 2.4101405143737793\n",
      "AVERAGE TRAIN LOSS: 2.349416494369507\n",
      "AVERAGE TRAIN LOSS: 2.288816213607788\n",
      "AVERAGE TRAIN LOSS: 2.2290947437286377\n",
      "AVERAGE TRAIN LOSS: 2.171018123626709\n",
      "AVERAGE TRAIN LOSS: 2.1152455806732178\n",
      "AVERAGE TRAIN LOSS: 2.0622313022613525\n",
      "AVERAGE TRAIN LOSS: 2.0121800899505615\n",
      "AVERAGE TRAIN LOSS: 1.9650503396987915\n",
      "AVERAGE TRAIN LOSS: 1.920574426651001\n",
      "AVERAGE TRAIN LOSS: 1.878250002861023\n",
      "AVERAGE TRAIN LOSS: 1.8373754024505615\n",
      "AVERAGE TRAIN LOSS: 1.7973753213882446\n",
      "AVERAGE TRAIN LOSS: 1.7581454515457153\n",
      "AVERAGE TRAIN LOSS: 1.7198753356933594\n",
      "AVERAGE TRAIN LOSS: 1.6826999187469482\n",
      "AVERAGE TRAIN LOSS: 1.646498203277588\n",
      "AVERAGE TRAIN LOSS: 1.610926628112793\n",
      "AVERAGE TRAIN LOSS: 1.575664758682251\n",
      "AVERAGE TRAIN LOSS: 1.5405813455581665\n",
      "AVERAGE TRAIN LOSS: 1.5055795907974243\n",
      "AVERAGE TRAIN LOSS: 1.470496416091919\n",
      "AVERAGE TRAIN LOSS: 1.4350628852844238\n",
      "AVERAGE TRAIN LOSS: 1.398783802986145\n",
      "AVERAGE TRAIN LOSS: 1.3611443042755127\n",
      "AVERAGE TRAIN LOSS: 1.3220487833023071\n",
      "AVERAGE TRAIN LOSS: 1.2814710140228271\n",
      "AVERAGE TRAIN LOSS: 1.2391163110733032\n",
      "AVERAGE TRAIN LOSS: 1.1951322555541992\n",
      "AVERAGE TRAIN LOSS: 1.1495587825775146\n",
      "AVERAGE TRAIN LOSS: 1.0968519449234009\n",
      "AVERAGE TRAIN LOSS: 1.0306810140609741\n",
      "AVERAGE TRAIN LOSS: 0.9516951441764832\n",
      "AVERAGE TRAIN LOSS: 0.869137167930603\n",
      "AVERAGE TRAIN LOSS: 0.7929182052612305\n",
      "AVERAGE TRAIN LOSS: 0.7261548042297363\n",
      "AVERAGE TRAIN LOSS: 0.6685845851898193\n",
      "AVERAGE TRAIN LOSS: 0.6189603805541992\n",
      "AVERAGE TRAIN LOSS: 0.57611483335495\n",
      "AVERAGE TRAIN LOSS: 0.5390959978103638\n",
      "AVERAGE TRAIN LOSS: 0.5071513056755066\n",
      "AVERAGE TRAIN LOSS: 0.4796994626522064\n",
      "AVERAGE TRAIN LOSS: 0.4562535285949707\n",
      "AVERAGE TRAIN LOSS: 0.4363385736942291\n",
      "AVERAGE TRAIN LOSS: 0.4194817543029785\n",
      "AVERAGE TRAIN LOSS: 0.4052359163761139\n",
      "AVERAGE TRAIN LOSS: 0.3932015895843506\n",
      "AVERAGE TRAIN LOSS: 0.3830324411392212\n",
      "AVERAGE TRAIN LOSS: 0.3744332194328308\n",
      "AVERAGE TRAIN LOSS: 0.36715129017829895\n",
      "AVERAGE TRAIN LOSS: 0.3609714210033417\n",
      "AVERAGE TRAIN LOSS: 0.355709433555603\n",
      "AVERAGE TRAIN LOSS: 0.35120853781700134\n",
      "AVERAGE TRAIN LOSS: 0.3473367393016815\n",
      "AVERAGE TRAIN LOSS: 0.3439827859401703\n",
      "AVERAGE TRAIN LOSS: 0.3410545885562897\n",
      "AVERAGE TRAIN LOSS: 0.3384769856929779\n",
      "AVERAGE TRAIN LOSS: 0.3361886143684387\n",
      "AVERAGE TRAIN LOSS: 0.33413928747177124\n",
      "AVERAGE TRAIN LOSS: 0.33228909969329834\n",
      "AVERAGE TRAIN LOSS: 0.33060547709465027\n",
      "AVERAGE TRAIN LOSS: 0.32906192541122437\n",
      "AVERAGE TRAIN LOSS: 0.3276374638080597\n",
      "AVERAGE TRAIN LOSS: 0.32631468772888184\n",
      "AVERAGE TRAIN LOSS: 0.32508039474487305\n",
      "AVERAGE TRAIN LOSS: 0.32392293214797974\n",
      "AVERAGE TRAIN LOSS: 0.3228333294391632\n",
      "AVERAGE TRAIN LOSS: 0.32180407643318176\n",
      "AVERAGE TRAIN LOSS: 0.3208286464214325\n",
      "AVERAGE TRAIN LOSS: 0.3199019432067871\n",
      "AVERAGE TRAIN LOSS: 0.3190191090106964\n",
      "AVERAGE TRAIN LOSS: 0.3181765377521515\n",
      "AVERAGE TRAIN LOSS: 0.3173704743385315\n",
      "AVERAGE TRAIN LOSS: 0.31659814715385437\n",
      "AVERAGE TRAIN LOSS: 0.31585702300071716\n",
      "AVERAGE TRAIN LOSS: 0.31514447927474976\n",
      "AVERAGE TRAIN LOSS: 0.31445860862731934\n",
      "AVERAGE TRAIN LOSS: 0.31379756331443787\n",
      "AVERAGE TRAIN LOSS: 0.3131595253944397\n",
      "AVERAGE TRAIN LOSS: 0.3125430643558502\n",
      "AVERAGE TRAIN LOSS: 0.31194639205932617\n",
      "AVERAGE TRAIN LOSS: 0.3113686442375183\n",
      "AVERAGE TRAIN LOSS: 0.31080853939056396\n",
      "AVERAGE TRAIN LOSS: 0.3102648854255676\n",
      "AVERAGE TRAIN LOSS: 0.3097367584705353\n",
      "AVERAGE TRAIN LOSS: 0.3092232048511505\n",
      "AVERAGE TRAIN LOSS: 0.30872341990470886\n",
      "AVERAGE TRAIN LOSS: 0.30823656916618347\n",
      "AVERAGE TRAIN LOSS: 0.30776211619377136\n",
      "AVERAGE TRAIN LOSS: 0.30729904770851135\n",
      "AVERAGE TRAIN LOSS: 0.3068471848964691\n",
      "AVERAGE TRAIN LOSS: 0.30640560388565063\n",
      "AVERAGE TRAIN LOSS: 0.30597394704818726\n",
      "AVERAGE TRAIN LOSS: 0.30555152893066406\n",
      "AVERAGE TRAIN LOSS: 0.30513808131217957\n",
      "AVERAGE TRAIN LOSS: 0.3047332167625427\n",
      "AVERAGE TRAIN LOSS: 0.3043363690376282\n",
      "AVERAGE TRAIN LOSS: 0.30394721031188965\n",
      "AVERAGE TRAIN LOSS: 0.3035653531551361\n",
      "AVERAGE TRAIN LOSS: 0.30319055914878845\n",
      "AVERAGE TRAIN LOSS: 0.3028222620487213\n",
      "AVERAGE TRAIN LOSS: 0.3024604022502899\n",
      "AVERAGE TRAIN LOSS: 0.30210453271865845\n",
      "AVERAGE TRAIN LOSS: 0.3017543852329254\n",
      "AVERAGE TRAIN LOSS: 0.30141013860702515\n",
      "AVERAGE TRAIN LOSS: 0.30107080936431885\n",
      "AVERAGE TRAIN LOSS: 0.30073681473731995\n",
      "AVERAGE TRAIN LOSS: 0.3004075884819031\n",
      "AVERAGE TRAIN LOSS: 0.3000832498073578\n",
      "AVERAGE TRAIN LOSS: 0.2997632324695587\n",
      "AVERAGE TRAIN LOSS: 0.29944753646850586\n",
      "AVERAGE TRAIN LOSS: 0.2991360127925873\n",
      "AVERAGE TRAIN LOSS: 0.2988286018371582\n",
      "AVERAGE TRAIN LOSS: 0.29852521419525146\n",
      "AVERAGE TRAIN LOSS: 0.298225075006485\n",
      "AVERAGE TRAIN LOSS: 0.29792892932891846\n",
      "AVERAGE TRAIN LOSS: 0.2976357936859131\n",
      "AVERAGE TRAIN LOSS: 0.2973463535308838\n",
      "AVERAGE TRAIN LOSS: 0.2970595359802246\n",
      "AVERAGE TRAIN LOSS: 0.2967761754989624\n",
      "AVERAGE TRAIN LOSS: 0.2964954674243927\n",
      "AVERAGE TRAIN LOSS: 0.29621759057044983\n",
      "AVERAGE TRAIN LOSS: 0.2959420680999756\n",
      "AVERAGE TRAIN LOSS: 0.2956691384315491\n",
      "AVERAGE TRAIN LOSS: 0.2953985333442688\n",
      "AVERAGE TRAIN LOSS: 0.29513019323349\n",
      "AVERAGE TRAIN LOSS: 0.29486382007598877\n",
      "AVERAGE TRAIN LOSS: 0.2945995628833771\n",
      "AVERAGE TRAIN LOSS: 0.29433712363243103\n",
      "AVERAGE TRAIN LOSS: 0.29407641291618347\n",
      "AVERAGE TRAIN LOSS: 0.29381734132766724\n",
      "AVERAGE TRAIN LOSS: 0.2935600280761719\n",
      "AVERAGE TRAIN LOSS: 0.29330429434776306\n",
      "AVERAGE TRAIN LOSS: 0.29305019974708557\n",
      "AVERAGE TRAIN LOSS: 0.292797714471817\n",
      "AVERAGE TRAIN LOSS: 0.29254674911499023\n",
      "AVERAGE TRAIN LOSS: 0.2922975718975067\n",
      "AVERAGE TRAIN LOSS: 0.2920500338077545\n",
      "AVERAGE TRAIN LOSS: 0.29180437326431274\n",
      "AVERAGE TRAIN LOSS: 0.29156064987182617\n",
      "AVERAGE TRAIN LOSS: 0.29131874442100525\n",
      "AVERAGE TRAIN LOSS: 0.29107922315597534\n",
      "AVERAGE TRAIN LOSS: 0.29084160923957825\n",
      "AVERAGE TRAIN LOSS: 0.29060670733451843\n",
      "AVERAGE TRAIN LOSS: 0.29037395119667053\n",
      "AVERAGE TRAIN LOSS: 0.29014381766319275\n",
      "AVERAGE TRAIN LOSS: 0.28991588950157166\n",
      "AVERAGE TRAIN LOSS: 0.2896910309791565\n",
      "AVERAGE TRAIN LOSS: 0.2894687354564667\n",
      "AVERAGE TRAIN LOSS: 0.28924909234046936\n",
      "AVERAGE TRAIN LOSS: 0.2890324890613556\n",
      "AVERAGE TRAIN LOSS: 0.28881850838661194\n",
      "AVERAGE TRAIN LOSS: 0.28860780596733093\n",
      "AVERAGE TRAIN LOSS: 0.28839966654777527\n",
      "AVERAGE TRAIN LOSS: 0.28819477558135986\n",
      "AVERAGE TRAIN LOSS: 0.2879924476146698\n",
      "AVERAGE TRAIN LOSS: 0.28779336810112\n",
      "AVERAGE TRAIN LOSS: 0.28759685158729553\n",
      "AVERAGE TRAIN LOSS: 0.2874031066894531\n",
      "AVERAGE TRAIN LOSS: 0.28721174597740173\n",
      "AVERAGE TRAIN LOSS: 0.2870228886604309\n",
      "AVERAGE TRAIN LOSS: 0.2868362367153168\n",
      "AVERAGE TRAIN LOSS: 0.2866516411304474\n",
      "AVERAGE TRAIN LOSS: 0.28646865487098694\n",
      "AVERAGE TRAIN LOSS: 0.28628718852996826\n",
      "AVERAGE TRAIN LOSS: 0.28610727190971375\n",
      "AVERAGE TRAIN LOSS: 0.2859284281730652\n",
      "AVERAGE TRAIN LOSS: 0.28575024008750916\n",
      "AVERAGE TRAIN LOSS: 0.28557288646698\n",
      "AVERAGE TRAIN LOSS: 0.28539568185806274\n",
      "AVERAGE TRAIN LOSS: 0.28521862626075745\n",
      "AVERAGE TRAIN LOSS: 0.28504106402397156\n",
      "AVERAGE TRAIN LOSS: 0.28486311435699463\n",
      "AVERAGE TRAIN LOSS: 0.28468403220176697\n",
      "AVERAGE TRAIN LOSS: 0.284503698348999\n",
      "AVERAGE TRAIN LOSS: 0.284321665763855\n",
      "AVERAGE TRAIN LOSS: 0.28413715958595276\n",
      "AVERAGE TRAIN LOSS: 0.28394994139671326\n",
      "AVERAGE TRAIN LOSS: 0.28375932574272156\n",
      "AVERAGE TRAIN LOSS: 0.28356483578681946\n",
      "AVERAGE TRAIN LOSS: 0.2833654582500458\n",
      "AVERAGE TRAIN LOSS: 0.28316065669059753\n",
      "AVERAGE TRAIN LOSS: 0.28294941782951355\n",
      "AVERAGE TRAIN LOSS: 0.2827311158180237\n",
      "AVERAGE TRAIN LOSS: 0.2825048565864563\n",
      "AVERAGE TRAIN LOSS: 0.2822698652744293\n",
      "AVERAGE TRAIN LOSS: 0.2820253372192383\n",
      "AVERAGE TRAIN LOSS: 0.2817710340023041\n",
      "AVERAGE TRAIN LOSS: 0.28150680661201477\n",
      "AVERAGE TRAIN LOSS: 0.2812329828739166\n",
      "AVERAGE TRAIN LOSS: 0.2809504568576813\n",
      "AVERAGE TRAIN LOSS: 0.2806607186794281\n",
      "AVERAGE TRAIN LOSS: 0.2803654372692108\n",
      "AVERAGE TRAIN LOSS: 0.2800675332546234\n",
      "AVERAGE TRAIN LOSS: 0.2797694802284241\n",
      "AVERAGE TRAIN LOSS: 0.27947431802749634\n",
      "AVERAGE TRAIN LOSS: 0.27918460965156555\n",
      "AVERAGE TRAIN LOSS: 0.27890273928642273\n",
      "AVERAGE TRAIN LOSS: 0.2786303162574768\n",
      "AVERAGE TRAIN LOSS: 0.27836838364601135\n",
      "AVERAGE TRAIN LOSS: 0.2781175374984741\n",
      "AVERAGE TRAIN LOSS: 0.27787771821022034\n",
      "AVERAGE TRAIN LOSS: 0.2776486277580261\n",
      "AVERAGE TRAIN LOSS: 0.2774292826652527\n",
      "AVERAGE TRAIN LOSS: 0.2772192656993866\n",
      "AVERAGE TRAIN LOSS: 0.2770175039768219\n",
      "AVERAGE TRAIN LOSS: 0.2768232822418213\n",
      "AVERAGE TRAIN LOSS: 0.27663567662239075\n",
      "AVERAGE TRAIN LOSS: 0.27645424008369446\n",
      "AVERAGE TRAIN LOSS: 0.2762781083583832\n",
      "AVERAGE TRAIN LOSS: 0.27610665559768677\n",
      "AVERAGE TRAIN LOSS: 0.27593979239463806\n",
      "AVERAGE TRAIN LOSS: 0.2757764458656311\n",
      "AVERAGE TRAIN LOSS: 0.27561676502227783\n",
      "AVERAGE TRAIN LOSS: 0.27546024322509766\n",
      "AVERAGE TRAIN LOSS: 0.2753066420555115\n",
      "AVERAGE TRAIN LOSS: 0.2751557230949402\n",
      "AVERAGE TRAIN LOSS: 0.27500709891319275\n",
      "AVERAGE TRAIN LOSS: 0.274860680103302\n",
      "AVERAGE TRAIN LOSS: 0.2747163772583008\n",
      "AVERAGE TRAIN LOSS: 0.27457380294799805\n",
      "AVERAGE TRAIN LOSS: 0.27443304657936096\n",
      "AVERAGE TRAIN LOSS: 0.2742938697338104\n",
      "AVERAGE TRAIN LOSS: 0.2741563320159912\n",
      "AVERAGE TRAIN LOSS: 0.2740199863910675\n",
      "AVERAGE TRAIN LOSS: 0.27388522028923035\n",
      "AVERAGE TRAIN LOSS: 0.27375170588493347\n",
      "AVERAGE TRAIN LOSS: 0.2736191749572754\n",
      "AVERAGE TRAIN LOSS: 0.2734878361225128\n",
      "AVERAGE TRAIN LOSS: 0.2733575403690338\n",
      "AVERAGE TRAIN LOSS: 0.273228257894516\n",
      "AVERAGE TRAIN LOSS: 0.27309978008270264\n",
      "AVERAGE TRAIN LOSS: 0.2729722857475281\n",
      "AVERAGE TRAIN LOSS: 0.27284562587738037\n",
      "AVERAGE TRAIN LOSS: 0.27271977066993713\n",
      "AVERAGE TRAIN LOSS: 0.2725946009159088\n",
      "AVERAGE TRAIN LOSS: 0.2724701166152954\n",
      "AVERAGE TRAIN LOSS: 0.2723463177680969\n",
      "AVERAGE TRAIN LOSS: 0.27222320437431335\n",
      "AVERAGE TRAIN LOSS: 0.2721005082130432\n",
      "AVERAGE TRAIN LOSS: 0.2719784677028656\n",
      "AVERAGE TRAIN LOSS: 0.27185681462287903\n",
      "AVERAGE TRAIN LOSS: 0.2717357575893402\n",
      "AVERAGE TRAIN LOSS: 0.27161502838134766\n",
      "AVERAGE TRAIN LOSS: 0.2714948058128357\n",
      "AVERAGE TRAIN LOSS: 0.27137479186058044\n",
      "AVERAGE TRAIN LOSS: 0.27125516533851624\n",
      "AVERAGE TRAIN LOSS: 0.2711358964443207\n",
      "AVERAGE TRAIN LOSS: 0.27101683616638184\n",
      "AVERAGE TRAIN LOSS: 0.27089789509773254\n",
      "AVERAGE TRAIN LOSS: 0.2707792818546295\n",
      "AVERAGE TRAIN LOSS: 0.2706606984138489\n",
      "AVERAGE TRAIN LOSS: 0.270542174577713\n",
      "AVERAGE TRAIN LOSS: 0.27042391896247864\n",
      "AVERAGE TRAIN LOSS: 0.2703055739402771\n",
      "AVERAGE TRAIN LOSS: 0.27018728852272034\n",
      "AVERAGE TRAIN LOSS: 0.2700686454772949\n",
      "AVERAGE TRAIN LOSS: 0.2699502408504486\n",
      "AVERAGE TRAIN LOSS: 0.2698307931423187\n",
      "AVERAGE TRAIN LOSS: 0.2697106897830963\n",
      "AVERAGE TRAIN LOSS: 0.26958832144737244\n",
      "AVERAGE TRAIN LOSS: 0.26946189999580383\n",
      "AVERAGE TRAIN LOSS: 0.2693317234516144\n",
      "AVERAGE TRAIN LOSS: 0.2691994905471802\n",
      "AVERAGE TRAIN LOSS: 0.269061416387558\n",
      "AVERAGE TRAIN LOSS: 0.26892247796058655\n",
      "AVERAGE TRAIN LOSS: 0.26878392696380615\n",
      "AVERAGE TRAIN LOSS: 0.2686440944671631\n",
      "AVERAGE TRAIN LOSS: 0.268502414226532\n",
      "AVERAGE TRAIN LOSS: 0.26835885643959045\n",
      "AVERAGE TRAIN LOSS: 0.2682136595249176\n",
      "AVERAGE TRAIN LOSS: 0.2680663764476776\n",
      "AVERAGE TRAIN LOSS: 0.26791709661483765\n",
      "AVERAGE TRAIN LOSS: 0.2677656412124634\n",
      "AVERAGE TRAIN LOSS: 0.26761192083358765\n",
      "AVERAGE TRAIN LOSS: 0.2674558460712433\n",
      "AVERAGE TRAIN LOSS: 0.2672972083091736\n",
      "AVERAGE TRAIN LOSS: 0.2671358287334442\n",
      "AVERAGE TRAIN LOSS: 0.2669717073440552\n",
      "AVERAGE TRAIN LOSS: 0.26680469512939453\n"
     ]
    }
   ],
   "source": [
    "### TRAINING LOOP\n",
    "num_epochs = 300\n",
    "train_loss_log = []\n",
    "val_loss_log = []\n",
    "\n",
    "for epoch_num in range(num_epochs):\n",
    "    #print('#################')\n",
    "    #print(f'# EPOCH {epoch_num}')\n",
    "    #print('#################')\n",
    "\n",
    "    ### TRAIN\n",
    "    train_loss= []\n",
    "    net.train() # Training mode (e.g. enable dropout, batchnorm updates,...)\n",
    "    for sample_batched in train_dataset:\n",
    "        # Move data to device\n",
    "        x_batch = sample_batched[0].to(device)\n",
    "        label_batch = sample_batched[1].to(device)\n",
    "\n",
    "        # Forward pass\n",
    "        out = net(x_batch)\n",
    "\n",
    "        # Compute loss\n",
    "        loss = loss_fn(out, label_batch)\n",
    "\n",
    "        # Backpropagation\n",
    "        net.zero_grad()\n",
    "        loss.backward()\n",
    "\n",
    "        # Update the weights\n",
    "        optimizer.step()\n",
    "\n",
    "        # Save train loss for this batch\n",
    "        loss_batch = loss.detach().cpu().numpy()\n",
    "        train_loss.append(loss_batch)\n",
    "        \n",
    "\n",
    "    # Save average train loss\n",
    "    train_loss = np.mean(train_loss)\n",
    "    print(f\"AVERAGE TRAIN LOSS: {train_loss}\")\n",
    "    train_loss_log.append(train_loss)\n"
   ]
  },
  {
   "cell_type": "code",
   "execution_count": 25,
   "id": "4df53c16-fb10-416c-91e3-e22b335529f9",
   "metadata": {},
   "outputs": [
    {
     "data": {
      "image/png": "[encoded data removed]",
      "text/plain": [
       "<Figure size 864x576 with 1 Axes>"
      ]
     },
     "metadata": {
      "needs_background": "light"
     },
     "output_type": "display_data"
    }
   ],
   "source": [
    "# Plot losses\n",
    "plt.figure(figsize=(12,8))\n",
    "plt.semilogy(train_loss_log, label='Train loss')\n",
    "#plt.semilogy(val_loss_log, label='Validation loss')\n",
    "plt.xlabel('Epoch')\n",
    "plt.ylabel('Loss')\n",
    "plt.grid()\n",
    "plt.legend()\n",
    "plt.show()"
   ]
  },
  {
   "cell_type": "code",
   "execution_count": 26,
   "id": "79da1621-ca48-4144-8b21-a8e4aa1cd6da",
   "metadata": {},
   "outputs": [],
   "source": [
    "from sklearn.model_selection import KFold \n",
    "from sklearn.linear_model import LogisticRegression\n",
    "from sklearn.metrics import accuracy_score\n"
   ]
  },
  {
   "cell_type": "code",
   "execution_count": 27,
   "id": "8b9d4afa-b8da-493d-8d29-e8edf0e4f0cd",
   "metadata": {},
   "outputs": [],
   "source": [
    "k = 5\n",
    "kf = KFold(n_splits=k, random_state=None)\n",
    "model = net()\n",
    " \n",
    "acc_score = []"
   ]
  },
  {
   "cell_type": "code",
   "execution_count": null,
   "id": "f8c6826c-e08f-49c1-97f0-f8b4ccf6789a",
   "metadata": {},
   "outputs": [],
   "source": [
    "for train_index , test_index in kf.split(X):\n",
    "    X_train , X_test = X.iloc[train_index,:],X.iloc[test_index,:]\n",
    "    y_train , y_test = y[train_index] , y[test_index]\n",
    "     \n",
    "    model.fit(X_train,y_train)\n",
    "    pred_values = model.predict(X_test)\n",
    "     \n",
    "    acc = accuracy_score(pred_values , y_test)\n",
    "    acc_score.append(acc)\n",
    "     \n",
    "avg_acc_score = sum(acc_score)/k\n",
    " \n",
    "print('accuracy of each fold - {}'.format(acc_score))\n",
    "print('Avg accuracy : {}'.format(avg_acc_score))"
   ]
  }
 ],
 "metadata": {
  "kernelspec": {
   "display_name": "Python 3",
   "language": "python",
   "name": "python3"
  },
  "language_info": {
   "codemirror_mode": {
    "name": "ipython",
    "version": 3
   },
   "file_extension": ".py",
   "mimetype": "text/x-python",
   "name": "python",
   "nbconvert_exporter": "python",
   "pygments_lexer": "ipython3",
   "version": "3.8.8"
  }
 },
 "nbformat": 4,
 "nbformat_minor": 5
}
